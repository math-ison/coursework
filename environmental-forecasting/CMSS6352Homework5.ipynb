{
  "metadata": {
    "language_info": {
      "codemirror_mode": {
        "name": "python",
        "version": 3
      },
      "file_extension": ".py",
      "mimetype": "text/x-python",
      "name": "python",
      "nbconvert_exporter": "python",
      "pygments_lexer": "ipython3",
      "version": "3.8"
    },
    "kernelspec": {
      "name": "python",
      "display_name": "Python (Pyodide)",
      "language": "python"
    }
  },
  "nbformat_minor": 4,
  "nbformat": 4,
  "cells": [
    {
      "cell_type": "markdown",
      "source": "# HW5: Wilks 2.3 and 2.5\nMadison Riba",
      "metadata": {}
    },
    {
      "cell_type": "markdown",
      "source": "## I have completed Wilks 2.3 in my previous homework - this submission will only include exercises from Wilks 2.5.",
      "metadata": {}
    },
    {
      "cell_type": "markdown",
      "source": "### 2.5: Data Handling",
      "metadata": {}
    },
    {
      "cell_type": "code",
      "source": "import numpy as np\nimport pandas as pd\nimport pickle",
      "metadata": {
        "trusted": true
      },
      "execution_count": 12,
      "outputs": []
    },
    {
      "cell_type": "code",
      "source": "data = [[101, 0.3657, 0.0636], [102, 0.2208, 0.1135], [103, 0.5353, 0.5191], [104, 0.5009, 0.5216], [105, 0.5415, np.nan], [106, 0.501, np.nan]]\n\ngeochem = pd.DataFrame(data, columns = [\"SampleID\", \"Percent C\", \"Percent S\"])",
      "metadata": {
        "trusted": true
      },
      "execution_count": 9,
      "outputs": []
    },
    {
      "cell_type": "markdown",
      "source": "Due to the NaN values and the data frame including decimals, `geochem` cannot be saved as an ASCII text file.",
      "metadata": {}
    },
    {
      "cell_type": "markdown",
      "source": "Saving as Python pickle",
      "metadata": {}
    },
    {
      "cell_type": "code",
      "source": "with open('geochem.pickle', 'wb') as f:\n    pickle.dump(geochem, f, pickle.HIGHEST_PROTOCOL)",
      "metadata": {
        "trusted": true
      },
      "execution_count": 14,
      "outputs": []
    },
    {
      "cell_type": "code",
      "source": "pd.read_pickle('geochem.pickle')",
      "metadata": {
        "trusted": true
      },
      "execution_count": 16,
      "outputs": [
        {
          "execution_count": 16,
          "output_type": "execute_result",
          "data": {
            "text/plain": "   SampleID  Percent C  Percent S\n0       101     0.3657     0.0636\n1       102     0.2208     0.1135\n2       103     0.5353     0.5191\n3       104     0.5009     0.5216\n4       105     0.5415        NaN\n5       106     0.5010        NaN",
            "text/html": "<div>\n<style scoped>\n    .dataframe tbody tr th:only-of-type {\n        vertical-align: middle;\n    }\n\n    .dataframe tbody tr th {\n        vertical-align: top;\n    }\n\n    .dataframe thead th {\n        text-align: right;\n    }\n</style>\n<table border=\"1\" class=\"dataframe\">\n  <thead>\n    <tr style=\"text-align: right;\">\n      <th></th>\n      <th>SampleID</th>\n      <th>Percent C</th>\n      <th>Percent S</th>\n    </tr>\n  </thead>\n  <tbody>\n    <tr>\n      <th>0</th>\n      <td>101</td>\n      <td>0.3657</td>\n      <td>0.0636</td>\n    </tr>\n    <tr>\n      <th>1</th>\n      <td>102</td>\n      <td>0.2208</td>\n      <td>0.1135</td>\n    </tr>\n    <tr>\n      <th>2</th>\n      <td>103</td>\n      <td>0.5353</td>\n      <td>0.5191</td>\n    </tr>\n    <tr>\n      <th>3</th>\n      <td>104</td>\n      <td>0.5009</td>\n      <td>0.5216</td>\n    </tr>\n    <tr>\n      <th>4</th>\n      <td>105</td>\n      <td>0.5415</td>\n      <td>NaN</td>\n    </tr>\n    <tr>\n      <th>5</th>\n      <td>106</td>\n      <td>0.5010</td>\n      <td>NaN</td>\n    </tr>\n  </tbody>\n</table>\n</div>"
          },
          "metadata": {}
        }
      ]
    }
  ]
}